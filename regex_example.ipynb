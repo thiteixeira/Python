{
  "nbformat": 4,
  "nbformat_minor": 0,
  "metadata": {
    "colab": {
      "name": "regex.ipynb",
      "version": "0.3.2",
      "provenance": [],
      "collapsed_sections": [],
      "include_colab_link": true
    },
    "kernelspec": {
      "name": "python3",
      "display_name": "Python 3"
    }
  },
  "cells": [
    {
      "cell_type": "markdown",
      "metadata": {
        "id": "view-in-github",
        "colab_type": "text"
      },
      "source": [
        "<a href=\"https://colab.research.google.com/github/thiteixeira/Python/blob/master/regex_example.ipynb\" target=\"_parent\"><img src=\"https://colab.research.google.com/assets/colab-badge.svg\" alt=\"Open In Colab\"/></a>"
      ]
    },
    {
      "metadata": {
        "id": "Jwiwoh6Htp-o",
        "colab_type": "code",
        "colab": {
          "base_uri": "https://localhost:8080/",
          "height": 102
        },
        "outputId": "b37ff153-7044-4130-aeac-ac7809108c66"
      },
      "cell_type": "code",
      "source": [
        "\"\"\"\n",
        "In California, license plate numbers come in three different formats. `A` is \n",
        "an uppercase letter between\n",
        "`A` and `Z`, and `0` is a digit between `0` and `9`.\n",
        " - AAA000\n",
        " - 000AAA\n",
        " - 0AAA000 (Prohibited letters: `I`, `O`, `Q`)\n",
        "\n",
        "Task\n",
        "Write a function that finds and returns the first Californian license plate \n",
        "number from a given ASCII string. If there are none, then the function must \n",
        "return an empty string.\n",
        "\n",
        "Examples:\n",
        "    Input       Output\n",
        "    \"QQQ123\"    \"QQQ123\"\n",
        "    \"1QQQ123\"   \"\"\n",
        "    \"ABC12\"     \"\"\n",
        "    \"1234ABC\"   \"234ABC\"\n",
        "\n",
        "\"\"\"\n",
        "\n",
        "import re\n",
        "\n",
        "def extract_license_plate_number(text):\n",
        "    w = re.search(r\"(^[A-Z0-9\\s_]+$)\", text)\n",
        "    if w:\n",
        "        pattern = re.sub(r'[ _+]', '', w.group())\n",
        "        if len(pattern) == 6:\n",
        "            return pattern\n",
        "        if len(pattern) == 7:\n",
        "            if re.search(r\"([IOQ])\", pattern):\n",
        "                return \"\"\n",
        "            else:\n",
        "                return pattern\n",
        "        else:\n",
        "            return \"\"\n",
        "    else:\n",
        "        return \"\"\n",
        "\n",
        "\n",
        "import unittest\n",
        "class Test(unittest.TestCase):\n",
        "    def test_positives_basic1(self):\n",
        "        self.assertEqual(extract_license_plate_number('ABC123'), 'ABC123')\n",
        "    \n",
        "    def test_positives_basic2(self):\n",
        "        self.assertEqual(extract_license_plate_number('123ABC'), '123ABC')\n",
        "\n",
        "    def test_positives_basic3(self):\n",
        "        self.assertEqual(extract_license_plate_number(\"1ABC123\"), \"1ABC123\")\n",
        "\n",
        "    def test_positives_extra_whitespace(self):\n",
        "        self.assertEqual(extract_license_plate_number(\"   QQQ999   \"), \"QQQ999\")\n",
        "\n",
        "    def test_positives_extra_characters(self):\n",
        "        self.assertEqual(extract_license_plate_number(\"___QQQ999___\"), \"QQQ999\")\n",
        "\n",
        "    def test_negatives_empty_string(self):\n",
        "        self.assertEqual(extract_license_plate_number(\"\"), \"\")\n",
        "\n",
        "    def test_negatives_only_whitespace(self):\n",
        "        self.assertEqual(extract_license_plate_number(\"   \"), \"\")\n",
        "\n",
        "    def test_negatives_lowercase_characters(self):\n",
        "        self.assertEqual(extract_license_plate_number(\"abc123\"), \"\")\n",
        "    \n",
        "\n",
        "if __name__ == '__main__':\n",
        "    unittest.main(argv=['first-arg-is-ignored'], exit=False)\n"
      ],
      "execution_count": 9,
      "outputs": [
        {
          "output_type": "stream",
          "text": [
            "........\n",
            "----------------------------------------------------------------------\n",
            "Ran 8 tests in 0.016s\n",
            "\n",
            "OK\n"
          ],
          "name": "stderr"
        }
      ]
    }
  ]
}