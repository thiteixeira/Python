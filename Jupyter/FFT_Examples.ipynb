{
  "nbformat": 4,
  "nbformat_minor": 0,
  "metadata": {
    "colab": {
      "name": "ece241_FFT_Examples.ipynb",
      "version": "0.3.2",
      "provenance": [],
      "collapsed_sections": [],
      "toc_visible": true,
      "include_colab_link": true
    },
    "kernelspec": {
      "name": "python3",
      "display_name": "Python 3"
    }
  },
  "cells": [
    {
      "cell_type": "markdown",
      "metadata": {
        "id": "view-in-github",
        "colab_type": "text"
      },
      "source": [
        "<a href=\"https://colab.research.google.com/github/thiteixeira/Python/blob/master/FFT_Examples.ipynb\" target=\"_parent\"><img src=\"https://colab.research.google.com/assets/colab-badge.svg\" alt=\"Open In Colab\"/></a>"
      ]
    },
    {
      "metadata": {
        "id": "kFzZIXO6RRqh",
        "colab_type": "code",
        "colab": {
          "base_uri": "https://localhost:8080/",
          "height": 34
        },
        "outputId": "b450d74e-2723-4d7e-b7b1-9f1f6992827b"
      },
      "cell_type": "code",
      "source": [
        "# DFT function\n",
        "\n",
        "import numpy as np\n",
        "from timeit import Timer\n",
        "\n",
        "pi2 = np.pi * 2\n",
        "\n",
        "def DFT(x):\n",
        "    N = len(x)\n",
        "    FmList = []\n",
        "    for m in range(N):\n",
        "        Fm = 0.0\n",
        "        for n in range(N):\n",
        "            Fm += x[n] * np.exp(- 1j * pi2 * m * n / N)\n",
        "        FmList.append(Fm / N)\n",
        "    return FmList\n",
        "  \n",
        "N = 1000\n",
        "x = np.arange(N)\n",
        "t = Timer(lambda: DFT(x))\n",
        "print('Elapsed time: {} s'.format(str(t.timeit(number=1))))"
      ],
      "execution_count": 52,
      "outputs": [
        {
          "output_type": "stream",
          "text": [
            "Elapsed time: 4.133232262999627 s\n"
          ],
          "name": "stdout"
        }
      ]
    },
    {
      "metadata": {
        "id": "Y3l9H0LMSvky",
        "colab_type": "code",
        "colab": {
          "base_uri": "https://localhost:8080/",
          "height": 34
        },
        "outputId": "b5c18b2d-d2ec-4c61-e880-6a55c4cce554"
      },
      "cell_type": "code",
      "source": [
        "# Recursive FFT function\n",
        "\n",
        "import numpy as np\n",
        "\n",
        "def FFT(x):\n",
        "    N = len(x)\n",
        "    if N <= 1: return x\n",
        "    even = FFT(x[0::2])\n",
        "    odd =  FFT(x[1::2])\n",
        "    T= [np.exp(-2j * np.pi * k/N) * odd[k] for k in range(N//2)]\n",
        "    return [even[k] + T[k] for k in range(N//2)] + \\\n",
        "           [even[k] - T[k] for k in range(N//2)]\n",
        "      \n",
        "N = 1024\n",
        "x = np.random.random(N)\n",
        "t = Timer(lambda: FFT(x))\n",
        "print('Elapsed time: {} s'.format(str(t.timeit(number=1))))  \n"
      ],
      "execution_count": 55,
      "outputs": [
        {
          "output_type": "stream",
          "text": [
            "Elapsed time: 0.01961746300003142 s\n"
          ],
          "name": "stdout"
        }
      ]
    },
    {
      "metadata": {
        "id": "GsGqME-1N6w7",
        "colab_type": "code",
        "colab": {
          "base_uri": "https://localhost:8080/",
          "height": 35
        },
        "outputId": "0eaee47c-d757-4b62-af9d-eaa611060946"
      },
      "cell_type": "code",
      "source": [
        "# FFT example using the Numpy fftpack\n",
        "\n",
        "import numpy as np\n",
        "from timeit import Timer\n",
        "\n",
        "N = 10000\n",
        "x = np.arange(N)\n",
        "t = Timer(lambda: np.fft.fft(x))\n",
        "print('Elapsed time: {} s'.format(str(t.timeit(number=1))))"
      ],
      "execution_count": 9,
      "outputs": [
        {
          "output_type": "stream",
          "text": [
            "Elapsed time: 0.0009821410000085962 s\n"
          ],
          "name": "stdout"
        }
      ]
    },
    {
      "metadata": {
        "id": "Awr5pzaRH_oM",
        "colab_type": "code",
        "colab": {
          "base_uri": "https://localhost:8080/",
          "height": 35
        },
        "outputId": "18060bea-8483-40d9-d887-b9e4b1bad0c0"
      },
      "cell_type": "code",
      "source": [
        "# FFT example using the SciPy fftpack\n",
        "\n",
        "import scipy\n",
        "from scipy.fftpack import fft\n",
        "from timeit import Timer\n",
        "\n",
        "N = 10000\n",
        "x = scipy.arange(N)\n",
        "t = Timer(lambda: fft(x))\n",
        "print('Elapsed time: {} s'.format(str(t.timeit(number=1))))"
      ],
      "execution_count": 10,
      "outputs": [
        {
          "output_type": "stream",
          "text": [
            "Elapsed time: 0.0004060769999796321 s\n"
          ],
          "name": "stdout"
        }
      ]
    }
  ]
}
